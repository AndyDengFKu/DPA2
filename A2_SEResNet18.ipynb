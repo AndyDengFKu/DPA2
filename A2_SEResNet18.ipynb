{
  "nbformat": 4,
  "nbformat_minor": 0,
  "metadata": {
    "colab": {
      "provenance": [],
      "gpuType": "T4",
      "authorship_tag": "ABX9TyMPCUnS1cOT93044xFitc6U",
      "include_colab_link": true
    },
    "kernelspec": {
      "name": "python3",
      "display_name": "Python 3"
    },
    "language_info": {
      "name": "python"
    },
    "accelerator": "GPU"
  },
  "cells": [
    {
      "cell_type": "markdown",
      "metadata": {
        "id": "view-in-github",
        "colab_type": "text"
      },
      "source": [
        "<a href=\"https://colab.research.google.com/github/AndyDengFKu/DPA2/blob/main/A2_SEResNet18.ipynb\" target=\"_parent\"><img src=\"https://colab.research.google.com/assets/colab-badge.svg\" alt=\"Open In Colab\"/></a>"
      ]
    },
    {
      "cell_type": "code",
      "execution_count": 6,
      "metadata": {
        "id": "dCTXmGLLt-wb",
        "colab": {
          "base_uri": "https://localhost:8080/"
        },
        "outputId": "7ea3ebf7-c761-4f63-e1b5-cfb93b2657ba"
      },
      "outputs": [
        {
          "output_type": "stream",
          "name": "stdout",
          "text": [
            "Drive already mounted at /content/drive; to attempt to forcibly remount, call drive.mount(\"/content/drive\", force_remount=True).\n"
          ]
        }
      ],
      "source": [
        "import torch\n",
        "import torch.nn as nn\n",
        "import torchvision.models as models\n",
        "from torchvision.models.resnet import ResNet18_Weights\n",
        "from google.colab import drive\n",
        "drive.mount('/content/drive')"
      ]
    },
    {
      "cell_type": "code",
      "source": [
        "# 定义SE模块\n",
        "class SEModule(nn.Module):\n",
        "    def __init__(self, channels, reduction=16):\n",
        "        super(SEModule, self).__init__()\n",
        "        self.avg_pool = nn.AdaptiveAvgPool2d(1)\n",
        "        self.fc1 = nn.Linear(channels, channels // reduction, bias=False)\n",
        "        self.relu = nn.ReLU(inplace=True)\n",
        "        self.fc2 = nn.Linear(channels // reduction, channels, bias=False)\n",
        "        self.sigmoid = nn.Sigmoid()\n",
        "\n",
        "    def forward(self, x):\n",
        "        b, c, _, _ = x.size()\n",
        "        y = self.avg_pool(x).view(b, c)\n",
        "        y = self.fc1(y)\n",
        "        y = self.relu(y)\n",
        "        y = self.fc2(y)\n",
        "        y = self.sigmoid(y).view(b, c, 1, 1)\n",
        "        return x * y\n",
        "\n",
        "# 添加SE模块至ResNet块\n",
        "def add_se_module_to_resblock(block, channels):\n",
        "    \"\"\"Add the SE module to a ResNet block.\"\"\"\n",
        "    block.se_module = SEModule(channels)\n",
        "    block.forward = lambda x: block.se_module(block.orig_forward(x))\n",
        "\n",
        "# 修改ResNet为SE-ResNet\n",
        "def modify_resnet_to_seresnet(model):\n",
        "    for layer in [model.layer1, model.layer2, model.layer3, model.layer4]:\n",
        "        for block in layer:\n",
        "            block.orig_forward = block.forward\n",
        "            add_se_module_to_resblock(block, block.conv2.out_channels)\n",
        "    return model\n",
        "\n",
        "# Define the model\n",
        "model = models.resnet18(weights=ResNet18_Weights.IMAGENET1K_V1)\n",
        "model = modify_resnet_to_seresnet(model)\n",
        "num_features = model.fc.in_features\n",
        "model.fc = nn.Linear(num_features, 2)\n",
        "\n",
        "# Load the trained model weights\n",
        "model_path = ('/content/drive/MyDrive/Colab Notebooks/DeepLearning/A2/2st_model.pth')\n",
        "model.load_state_dict(torch.load(model_path), strict=False)\n",
        "\n",
        "criterion = nn.CrossEntropyLoss()\n",
        "device = torch.device(\"cuda:0\" if torch.cuda.is_available() else \"cpu\")\n",
        "model = model.to(device)\n",
        "\n",
        "# Defining the Optimiser\n",
        "optimizer = torch.optim.Adam(model.parameters(), lr=0.001)\n",
        "\n",
        "# Adding a learning rate scheduler\n",
        "scheduler = torch.optim.lr_scheduler.ReduceLROnPlateau(optimizer, mode='min', factor=0.1, patience=5, verbose=True)\n",
        "\n",
        "# Early stopping parameters\n",
        "patience = 30\n",
        "stop_count = 0\n",
        "best_loss = float('inf')\n",
        "\n",
        "# Training parameters\n",
        "num_epochs = 300\n",
        "validate_every = 1\n",
        "\n",
        "# Lists to store results for plotting later\n",
        "train_losses = []\n",
        "val_losses = []\n"
      ],
      "metadata": {
        "colab": {
          "base_uri": "https://localhost:8080/"
        },
        "id": "G-Lf_hFLwv9H",
        "outputId": "6f4482dc-0408-4dcf-974e-e9040a771ef6"
      },
      "execution_count": 7,
      "outputs": [
        {
          "output_type": "stream",
          "name": "stderr",
          "text": [
            "Downloading: \"https://download.pytorch.org/models/resnet18-f37072fd.pth\" to /root/.cache/torch/hub/checkpoints/resnet18-f37072fd.pth\n",
            "100%|██████████| 44.7M/44.7M [00:00<00:00, 270MB/s]\n"
          ]
        }
      ]
    },
    {
      "cell_type": "code",
      "source": [],
      "metadata": {
        "id": "M-7Pb0jMxw4X"
      },
      "execution_count": null,
      "outputs": []
    }
  ]
}